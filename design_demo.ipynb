{
 "cells": [
  {
   "metadata": {
    "ExecuteTime": {
     "end_time": "2024-11-09T13:18:31.380113Z",
     "start_time": "2024-11-09T13:18:31.358801Z"
    }
   },
   "cell_type": "code",
   "source": "import requests",
   "id": "9ba8e9b8762921f7",
   "outputs": [],
   "execution_count": 2
  },
  {
   "metadata": {},
   "cell_type": "markdown",
   "source": "### GitHub Events API",
   "id": "e53941c562f1285f"
  },
  {
   "cell_type": "code",
   "id": "initial_id",
   "metadata": {
    "collapsed": true,
    "ExecuteTime": {
     "end_time": "2024-11-09T13:25:53.135811Z",
     "start_time": "2024-11-09T13:25:52.843395Z"
    }
   },
   "source": [
    "url = \"https://api.github.com/events\"\n",
    "response = requests.get(url)"
   ],
   "outputs": [],
   "execution_count": 3
  },
  {
   "metadata": {
    "ExecuteTime": {
     "end_time": "2024-11-09T13:27:28.841194Z",
     "start_time": "2024-11-09T13:27:28.833489Z"
    }
   },
   "cell_type": "code",
   "source": "len(response.json())",
   "id": "ec33cbd124d4ccec",
   "outputs": [
    {
     "data": {
      "text/plain": [
       "30"
      ]
     },
     "execution_count": 6,
     "metadata": {},
     "output_type": "execute_result"
    }
   ],
   "execution_count": 6
  },
  {
   "metadata": {
    "ExecuteTime": {
     "end_time": "2024-11-09T13:27:46.703061Z",
     "start_time": "2024-11-09T13:27:46.688120Z"
    }
   },
   "cell_type": "code",
   "source": "response.json()[0]",
   "id": "75ff2cf419f296dd",
   "outputs": [
    {
     "data": {
      "text/plain": [
       "{'id': '43663781485',\n",
       " 'type': 'PushEvent',\n",
       " 'actor': {'id': 41898282,\n",
       "  'login': 'github-actions[bot]',\n",
       "  'display_login': 'github-actions',\n",
       "  'gravatar_id': '',\n",
       "  'url': 'https://api.github.com/users/github-actions[bot]',\n",
       "  'avatar_url': 'https://avatars.githubusercontent.com/u/41898282?'},\n",
       " 'repo': {'id': 582702733,\n",
       "  'name': 'rodsalmeida/rodsalmeida',\n",
       "  'url': 'https://api.github.com/repos/rodsalmeida/rodsalmeida'},\n",
       " 'payload': {'repository_id': 582702733,\n",
       "  'push_id': 21131170951,\n",
       "  'size': 1,\n",
       "  'distinct_size': 1,\n",
       "  'ref': 'refs/heads/output',\n",
       "  'head': 'a5a1c1ac1a56382644c6f18473f39f8a949ce014',\n",
       "  'before': '8ff88d2593bd39f5b0efa40d539637547147ce5a',\n",
       "  'commits': [{'sha': 'a5a1c1ac1a56382644c6f18473f39f8a949ce014',\n",
       "    'author': {'email': '41898282+github-actions[bot]@users.noreply.github.com',\n",
       "     'name': 'github-actions[bot]'},\n",
       "    'message': 'Deploy to GitHub pages',\n",
       "    'distinct': True,\n",
       "    'url': 'https://api.github.com/repos/rodsalmeida/rodsalmeida/commits/a5a1c1ac1a56382644c6f18473f39f8a949ce014'}]},\n",
       " 'public': True,\n",
       " 'created_at': '2024-11-09T13:20:53Z'}"
      ]
     },
     "execution_count": 8,
     "metadata": {},
     "output_type": "execute_result"
    }
   ],
   "execution_count": 8
  }
 ],
 "metadata": {
  "kernelspec": {
   "display_name": "Python 3",
   "language": "python",
   "name": "python3"
  },
  "language_info": {
   "codemirror_mode": {
    "name": "ipython",
    "version": 2
   },
   "file_extension": ".py",
   "mimetype": "text/x-python",
   "name": "python",
   "nbconvert_exporter": "python",
   "pygments_lexer": "ipython2",
   "version": "2.7.6"
  }
 },
 "nbformat": 4,
 "nbformat_minor": 5
}
